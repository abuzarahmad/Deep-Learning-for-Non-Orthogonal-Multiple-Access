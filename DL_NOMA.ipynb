{
  "nbformat": 4,
  "nbformat_minor": 0,
  "metadata": {
    "kernelspec": {
      "display_name": "Python 3",
      "language": "python",
      "name": "python3"
    },
    "language_info": {
      "codemirror_mode": {
        "name": "ipython",
        "version": 3
      },
      "file_extension": ".py",
      "mimetype": "text/x-python",
      "name": "python",
      "nbconvert_exporter": "python",
      "pygments_lexer": "ipython3",
      "version": "3.7.4"
    },
    "colab": {
      "name": "Noma qq (old).ipynb",
      "provenance": []
    }
  },
  "cells": [
    {
      "cell_type": "code",
      "metadata": {
        "id": "LohzqlQ87YnN",
        "colab": {
          "base_uri": "https://localhost:8080/",
          "height": 269
        },
        "outputId": "50f9ace0-3e09-4e0e-96df-85f8dc3aab1f"
      },
      "source": [
        "!pip install keras==2.3.1"
      ],
      "execution_count": null,
      "outputs": [
        {
          "output_type": "stream",
          "text": [
            "Collecting keras==2.3.1\n",
            "\u001b[?25l  Downloading https://files.pythonhosted.org/packages/ad/fd/6bfe87920d7f4fd475acd28500a42482b6b84479832bdc0fe9e589a60ceb/Keras-2.3.1-py2.py3-none-any.whl (377kB)\n",
            "\r\u001b[K     |▉                               | 10kB 17.1MB/s eta 0:00:01\r\u001b[K     |█▊                              | 20kB 1.7MB/s eta 0:00:01\r\u001b[K     |██▋                             | 30kB 2.5MB/s eta 0:00:01\r\u001b[K     |███▌                            | 40kB 1.7MB/s eta 0:00:01\r\u001b[K     |████▍                           | 51kB 2.1MB/s eta 0:00:01\r\u001b[K     |█████▏                          | 61kB 2.5MB/s eta 0:00:01\r\u001b[K     |██████                          | 71kB 2.9MB/s eta 0:00:01\r\u001b[K     |███████                         | 81kB 3.2MB/s eta 0:00:01\r\u001b[K     |███████▉                        | 92kB 3.6MB/s eta 0:00:01\r\u001b[K     |████████▊                       | 102kB 2.8MB/s eta 0:00:01\r\u001b[K     |█████████▌                      | 112kB 2.8MB/s eta 0:00:01\r\u001b[K     |██████████▍                     | 122kB 2.8MB/s eta 0:00:01\r\u001b[K     |███████████▎                    | 133kB 2.8MB/s eta 0:00:01\r\u001b[K     |████████████▏                   | 143kB 2.8MB/s eta 0:00:01\r\u001b[K     |█████████████                   | 153kB 2.8MB/s eta 0:00:01\r\u001b[K     |█████████████▉                  | 163kB 2.8MB/s eta 0:00:01\r\u001b[K     |██████████████▊                 | 174kB 2.8MB/s eta 0:00:01\r\u001b[K     |███████████████▋                | 184kB 2.8MB/s eta 0:00:01\r\u001b[K     |████████████████▌               | 194kB 2.8MB/s eta 0:00:01\r\u001b[K     |█████████████████▍              | 204kB 2.8MB/s eta 0:00:01\r\u001b[K     |██████████████████▏             | 215kB 2.8MB/s eta 0:00:01\r\u001b[K     |███████████████████             | 225kB 2.8MB/s eta 0:00:01\r\u001b[K     |████████████████████            | 235kB 2.8MB/s eta 0:00:01\r\u001b[K     |████████████████████▉           | 245kB 2.8MB/s eta 0:00:01\r\u001b[K     |█████████████████████▊          | 256kB 2.8MB/s eta 0:00:01\r\u001b[K     |██████████████████████▌         | 266kB 2.8MB/s eta 0:00:01\r\u001b[K     |███████████████████████▍        | 276kB 2.8MB/s eta 0:00:01\r\u001b[K     |████████████████████████▎       | 286kB 2.8MB/s eta 0:00:01\r\u001b[K     |█████████████████████████▏      | 296kB 2.8MB/s eta 0:00:01\r\u001b[K     |██████████████████████████      | 307kB 2.8MB/s eta 0:00:01\r\u001b[K     |██████████████████████████▉     | 317kB 2.8MB/s eta 0:00:01\r\u001b[K     |███████████████████████████▊    | 327kB 2.8MB/s eta 0:00:01\r\u001b[K     |████████████████████████████▋   | 337kB 2.8MB/s eta 0:00:01\r\u001b[K     |█████████████████████████████▌  | 348kB 2.8MB/s eta 0:00:01\r\u001b[K     |██████████████████████████████▍ | 358kB 2.8MB/s eta 0:00:01\r\u001b[K     |███████████████████████████████▏| 368kB 2.8MB/s eta 0:00:01\r\u001b[K     |████████████████████████████████| 378kB 2.8MB/s \n",
            "\u001b[?25hRequirement already satisfied: numpy>=1.9.1 in /usr/local/lib/python3.6/dist-packages (from keras==2.3.1) (1.17.5)\n",
            "Requirement already satisfied: keras-applications>=1.0.6 in /usr/local/lib/python3.6/dist-packages (from keras==2.3.1) (1.0.8)\n",
            "Requirement already satisfied: six>=1.9.0 in /usr/local/lib/python3.6/dist-packages (from keras==2.3.1) (1.12.0)\n",
            "Requirement already satisfied: scipy>=0.14 in /usr/local/lib/python3.6/dist-packages (from keras==2.3.1) (1.4.1)\n",
            "Requirement already satisfied: keras-preprocessing>=1.0.5 in /usr/local/lib/python3.6/dist-packages (from keras==2.3.1) (1.1.0)\n",
            "Requirement already satisfied: h5py in /usr/local/lib/python3.6/dist-packages (from keras==2.3.1) (2.8.0)\n",
            "Requirement already satisfied: pyyaml in /usr/local/lib/python3.6/dist-packages (from keras==2.3.1) (3.13)\n",
            "Installing collected packages: keras\n",
            "  Found existing installation: Keras 2.2.5\n",
            "    Uninstalling Keras-2.2.5:\n",
            "      Successfully uninstalled Keras-2.2.5\n",
            "Successfully installed keras-2.3.1\n"
          ],
          "name": "stdout"
        }
      ]
    },
    {
      "cell_type": "code",
      "metadata": {
        "id": "zrpBxKka9WK_"
      },
      "source": [
        "import numpy as np\n",
        "from numpy.random import seed\n",
        "\n",
        "import tensorflow as tf\n",
        "import tensorflow as tf\n",
        "\n",
        "import keras\n",
        "from keras.layers import Input, Dense, GaussianNoise, Lambda, Dropout\n",
        "from keras.models import Model\n",
        "from keras import regularizers\n",
        "from keras.layers.normalization import BatchNormalization\n",
        "from keras.optimizers import Adam, SGD\n",
        "from keras import backend as K\n",
        "\n",
        "import matplotlib.pyplot as plt\n",
        "import random \n",
        "\n",
        "from mpl_toolkits.mplot3d import Axes3D  # noqa: F401 unused import"
      ],
      "execution_count": null,
      "outputs": []
    },
    {
      "cell_type": "code",
      "metadata": {
        "id": "xCb_Goue7Yno"
      },
      "source": [
        "seed(1)\n",
        "tf.set_random_seed(1)"
      ],
      "execution_count": null,
      "outputs": []
    },
    {
      "cell_type": "markdown",
      "metadata": {
        "id": "WNNy2u697Ynz"
      },
      "source": [
        "##### Some functions"
      ]
    },
    {
      "cell_type": "code",
      "metadata": {
        "id": "IFMluF3x7Yn6"
      },
      "source": [
        "def plot_loss(trained_model):\n",
        "    \n",
        "    keys   = trained_model.history.keys()\n",
        "    losses = sorted([a for a in keys if a.endswith('_loss') ])\n",
        "    accs   = sorted([a for a in keys if a.endswith('_acc') ])\n",
        "    \n",
        "    plt.figure()\n",
        "    plt.plot(trained_model.history[losses[0]], label = 'Loss 1')\n",
        "    plt.plot(trained_model.history[losses[1]], label = 'Loss 2')\n",
        "    plt.plot(trained_model.history['loss'], label = 'Loss')\n",
        "    # plt.axis([0, 100, 0, 0.5])\n",
        "    plt.title('Model Loss')\n",
        "    plt.ylabel('Loss')\n",
        "    plt.xlabel('Epoch')\n",
        "    plt.grid(b=True, which='major', color='#c2c2c2', linestyle='-')\n",
        "    plt.legend(fontsize = 10)\n",
        "    \n",
        "def plot_constellation(input_layer, encoder_2_layer, k):\n",
        "    \n",
        "    my_encoder = Model(input_layer, encoder_2_layer)\n",
        "    \n",
        "    eye_matrix = np.eye(k) \n",
        "    points = my_encoder.predict(eye_matrix) \n",
        "    print(points)\n",
        "\n",
        "    # Plot\n",
        "    plt.title('Constellation')\n",
        "    plt.xlim(-3, 3)\n",
        "    plt.ylim(-3, 3)\n",
        "    plt.plot(points[:,0], points[:,1], 'k.', markersize=10)\n",
        "    plt.grid(True)\n",
        "    \n",
        "    return points\n",
        "    \n",
        "def plot_constellation_3d(input_layer, encoder_2_layer, k):\n",
        "    \n",
        "    my_encoder = Model(input_layer, encoder_2_layer)\n",
        "    \n",
        "    eye_matrix = np.eye(k) \n",
        "    points = my_encoder.predict(eye_matrix) \n",
        "    print(points)\n",
        "    \n",
        "    # This import registers the 3D projection, but is otherwise unused.\n",
        "    fig = plt.figure()\n",
        "    ax = fig.add_subplot(111, projection='3d')\n",
        "\n",
        "    ax.scatter(points[:,0], points[:,1], points[:,2])\n",
        "\n",
        "    ax.set_xlabel('X Label')\n",
        "    ax.set_ylabel('Y Label')\n",
        "    ax.set_zlabel('Z Label')\n",
        "\n",
        "    plt.show()"
      ],
      "execution_count": null,
      "outputs": []
    },
    {
      "cell_type": "code",
      "metadata": {
        "id": "puj2HkvN7YoK"
      },
      "source": [
        "# Model??"
      ],
      "execution_count": null,
      "outputs": []
    },
    {
      "cell_type": "markdown",
      "metadata": {
        "id": "BsWXer_i7YoZ"
      },
      "source": [
        "##### Parameters"
      ]
    },
    {
      "cell_type": "code",
      "metadata": {
        "id": "gKvsKbLE7Yoe"
      },
      "source": [
        "# Bits\n",
        "k1 = 2          \n",
        "k2 = 2\n",
        "\n",
        "k = 2**(k1+k2)\n",
        "\n",
        "# Constellation Size\n",
        "M1 = 2**k1\n",
        "M2 = 2**k2\n",
        "\n",
        "# EbN0\n",
        "SNR1 = 10**(12/10)\n",
        "SNR2 = 10**(2/10) \n",
        "\n",
        "# Channel Reuse\n",
        "n_channel = 2\n",
        "\n",
        "#a = 0.5\n",
        "#b = 0.5\n",
        "\n",
        "# Size of Input data\n",
        "N = 100000 "
      ],
      "execution_count": null,
      "outputs": []
    },
    {
      "cell_type": "markdown",
      "metadata": {
        "id": "vxEy3_UG7You"
      },
      "source": [
        "##### Generate data"
      ]
    },
    {
      "cell_type": "code",
      "metadata": {
        "id": "RISqqoqj7Yo2",
        "colab": {
          "base_uri": "https://localhost:8080/",
          "height": 145
        },
        "outputId": "0bdbbf94-68f7-4bb9-8bf7-b32de95278c6"
      },
      "source": [
        "'''def generate_data(k, N):\n",
        "    label = np.random.randint(k,size=N)\n",
        "    data = []\n",
        "    for i in label:\n",
        "        temp = np.zeros(k)\n",
        "        temp[i] = 1\n",
        "        data.append(temp)\n",
        "    data = np.array(data)\n",
        "    return data"
      ],
      "execution_count": null,
      "outputs": [
        {
          "output_type": "error",
          "ename": "SyntaxError",
          "evalue": "ignored",
          "traceback": [
            "\u001b[0;36m  File \u001b[0;32m\"<ipython-input-10-b1b0878ca663>\"\u001b[0;36m, line \u001b[0;32m9\u001b[0m\n\u001b[0;31m    return data\u001b[0m\n\u001b[0m               \n^\u001b[0m\n\u001b[0;31mSyntaxError\u001b[0m\u001b[0;31m:\u001b[0m EOF while scanning triple-quoted string literal\n"
          ]
        }
      ]
    },
    {
      "cell_type": "code",
      "metadata": {
        "id": "vXhVhUb_7YpH"
      },
      "source": [
        "mapping = {0: (0,0), 1: (0,1), 2: (0,2), 3: (0,3),\n",
        "           4: (1,0), 5: (1,1), 6: (1,2), 7: (1,3),\n",
        "           8: (2,0), 9: (2,1), 10:(2,2), 11:(2,3),\n",
        "           12:(3,0), 13:(3,1), 14:(3,2), 15:(3,3)}"
      ],
      "execution_count": null,
      "outputs": []
    },
    {
      "cell_type": "code",
      "metadata": {
        "id": "LU2s0Lln7YpW"
      },
      "source": [
        "def generate_data_v2(k1, k2, N, mapping):\n",
        "    labels = np.random.randint(2**(k1+k2), size=N)\n",
        "    \n",
        "    data_f = []\n",
        "    data_2 = []\n",
        "    \n",
        "    for i in labels:\n",
        "        # Full data\n",
        "        temp = np.zeros(2**(k1+k2))\n",
        "        temp[i] = 1\n",
        "        data_f.append(temp)\n",
        "        \n",
        "        # Data of user 2\n",
        "        temp = np.zeros(2**k2)\n",
        "        temp[mapping[i][1]] = 1\n",
        "        data_2.append(temp)\n",
        "        \n",
        "    return np.array(data_f), np.array(data_2)"
      ],
      "execution_count": null,
      "outputs": []
    },
    {
      "cell_type": "code",
      "metadata": {
        "id": "Cbk4uRRT7Ypf"
      },
      "source": [
        "data, data_2 = generate_data_v2(k1, k2, N, mapping)"
      ],
      "execution_count": null,
      "outputs": []
    },
    {
      "cell_type": "code",
      "metadata": {
        "id": "fK_4Ecpy7Yps",
        "colab": {
          "base_uri": "https://localhost:8080/",
          "height": 134
        },
        "outputId": "ffcef1f7-af55-425d-ab2f-0c01e89686f3"
      },
      "source": [
        "data_2"
      ],
      "execution_count": null,
      "outputs": [
        {
          "output_type": "execute_result",
          "data": {
            "text/plain": [
              "array([[0., 1., 0., 0.],\n",
              "       [0., 0., 0., 1.],\n",
              "       [1., 0., 0., 0.],\n",
              "       ...,\n",
              "       [1., 0., 0., 0.],\n",
              "       [1., 0., 0., 0.],\n",
              "       [0., 0., 1., 0.]])"
            ]
          },
          "metadata": {
            "tags": []
          },
          "execution_count": 14
        }
      ]
    },
    {
      "cell_type": "code",
      "metadata": {
        "id": "e3lm-8Kr7Yp2",
        "colab": {
          "base_uri": "https://localhost:8080/",
          "height": 134
        },
        "outputId": "d23fa56f-b5ac-4854-dc7c-2e34cabadf7e"
      },
      "source": [
        "data"
      ],
      "execution_count": null,
      "outputs": [
        {
          "output_type": "execute_result",
          "data": {
            "text/plain": [
              "array([[0., 0., 0., ..., 0., 0., 0.],\n",
              "       [0., 0., 0., ..., 0., 0., 0.],\n",
              "       [0., 0., 0., ..., 0., 0., 0.],\n",
              "       ...,\n",
              "       [1., 0., 0., ..., 0., 0., 0.],\n",
              "       [1., 0., 0., ..., 0., 0., 0.],\n",
              "       [0., 0., 1., ..., 0., 0., 0.]])"
            ]
          },
          "metadata": {
            "tags": []
          },
          "execution_count": 15
        }
      ]
    },
    {
      "cell_type": "markdown",
      "metadata": {
        "id": "tq8ymPOs7YqA"
      },
      "source": [
        "##### Model"
      ]
    },
    {
      "cell_type": "code",
      "metadata": {
        "id": "E6q1aXQ07YqF",
        "colab": {
          "base_uri": "https://localhost:8080/",
          "height": 145
        },
        "outputId": "149ead8c-886e-4e39-f034-c49f97e572a5"
      },
      "source": [
        "''' def create_model(k, n):\n",
        "    # Input\n",
        "    input_signal = Input(shape=(k,)) # Expected input in batches of size M1 + M2\n",
        "\n",
        "    # Mutual Encoder (64L,2L,PN)\n",
        "\n",
        "    encoded = Dense(64, activation='linear')(input_signal) # Linear\n",
        "    encoded1 = Dense(n, activation='linear')(encoded) # Linear \n",
        "    #encoded2 = Lambda(lambda x: np.sqrt(n)*K.l2_normalize(x,axis=1))(encoded1) # energy constraint - forms a circle\n",
        "    encoded2 = Lambda(lambda x: x / K.sqrt(K.mean(x**2)))(encoded1) # average power constraint\n",
        "\n",
        "    # Channel (AWGN with different SNRs)\n",
        "    channel1 = GaussianNoise(np.sqrt(1/(2*SNR1)))(encoded2)\n",
        "    channel2 = GaussianNoise(np.sqrt(1/(2*SNR2)))(encoded2)\n",
        "                                                  \n",
        "\n",
        "    # Decoder 1 (128L,64R,32R,S)\n",
        "    u1_decoded = Dense(128, activation='linear')(channel1) \n",
        "    u1_decoded1 = Dense(64, activation='relu')(u1_decoded)\n",
        "    u1_decoded2 = Dense(32, activation='relu')(u1_decoded1)\n",
        "    u1_decoded3 = Dense(16, activation='softmax')(u1_decoded2) \n",
        "\n",
        "    # Decoder 2 (128L,64R,32R,S)\n",
        "    u2_decoded = Dense(128, activation='linear')(channel2)\n",
        "    u2_decoded1 = Dense(64, activation='relu')(u2_decoded)\n",
        "    u2_decoded2 = Dense(32, activation='relu')(u2_decoded1)\n",
        "    u2_decoded3 = Dense(4, activation='softmax')(u2_decoded2)\n",
        "\n",
        "    # Model\n",
        "    return Model(input_signal,  [u1_decoded3, u2_decoded3]), input_signal, encoded2"
      ],
      "execution_count": null,
      "outputs": [
        {
          "output_type": "error",
          "ename": "SyntaxError",
          "evalue": "ignored",
          "traceback": [
            "\u001b[0;36m  File \u001b[0;32m\"<ipython-input-16-d1d6e52f1e46>\"\u001b[0;36m, line \u001b[0;32m30\u001b[0m\n\u001b[0;31m    return Model(input_signal,  [u1_decoded3, u2_decoded3]), input_signal, encoded2\u001b[0m\n\u001b[0m                                                                                   \n^\u001b[0m\n\u001b[0;31mSyntaxError\u001b[0m\u001b[0;31m:\u001b[0m EOF while scanning triple-quoted string literal\n"
          ]
        }
      ]
    },
    {
      "cell_type": "code",
      "metadata": {
        "id": "WmXVv-Sd7YqP"
      },
      "source": [
        "def create_model_v2(k1, k2, n):\n",
        "    \n",
        "    M = 2**(k1+k2)\n",
        "    M2 = 2**k2\n",
        "    \n",
        "    # Input\n",
        "    input_signal = Input(shape=(k,)) # Expected input in batches of size M1 + M2\n",
        "\n",
        "    # Mutual Encoder (64L,2L,PN)\n",
        "\n",
        "    encoded = Dense(64, activation='linear')(input_signal) # Linear\n",
        "    encoded1 = Dense(n, activation='linear')(input_signal) # Linear \n",
        "    #encoded2 = Lambda(lambda x: np.sqrt(n)*K.l2_normalize(x,axis=1))(encoded1) # energy constraint - symbols lie on a unit circle\n",
        "    encoded2 = Lambda(lambda x: x / K.sqrt(K.mean(x**2)))(encoded1) # average power constraint\n",
        "\n",
        "    # Channel (AWGN with different SNRs)\n",
        "    channel1 = GaussianNoise(np.sqrt(1/(2*SNR1)))(encoded2)\n",
        "    channel2 = GaussianNoise(np.sqrt(1/(2*SNR2)))(encoded2)\n",
        "\n",
        "    # Decoder 1 (128L,64R,32R,S)\n",
        "    u1_decoded = Dense(128, activation='linear')(channel1) \n",
        "    u1_decoded1 = Dense(64, activation='relu')(u1_decoded)\n",
        "    u1_decoded2 = Dense(32, activation='relu')(u1_decoded1)\n",
        "    u1_decoded3 = Dense(M, activation='softmax')(u1_decoded2) \n",
        "\n",
        "    # Decoder 2 (128L,64R,32R,S)\n",
        "    u2_decoded = Dense(128, activation='linear')(channel2)\n",
        "    u2_decoded1 = Dense(64, activation='relu')(u2_decoded)\n",
        "    u2_decoded2 = Dense(32, activation='relu')(u2_decoded1)\n",
        "    u2_decoded3 = Dense(M2, activation='softmax')(u2_decoded2)\n",
        "\n",
        "    # Model\n",
        "    return Model(input_signal,  [u1_decoded3, u2_decoded3]), input_signal, encoded2"
      ],
      "execution_count": null,
      "outputs": []
    },
    {
      "cell_type": "code",
      "metadata": {
        "id": "ndaeyJgb7YqY",
        "colab": {
          "base_uri": "https://localhost:8080/",
          "height": 145
        },
        "outputId": "b11a12f1-3fe1-41a2-a71c-24378856ad85"
      },
      "source": [
        "''''autoencoder, in_0, en_2 = create_model(k, n_channel)\n",
        "\n",
        "# Optimizer\n",
        "sgd = SGD(lr=0.1)\n",
        "\n",
        "# Compilation \n",
        "autoencoder.compile(optimizer=sgd, loss='categorical_crossentropy', metrics=[\"accuracy\"])\n"
      ],
      "execution_count": null,
      "outputs": [
        {
          "output_type": "error",
          "ename": "SyntaxError",
          "evalue": "ignored",
          "traceback": [
            "\u001b[0;36m  File \u001b[0;32m\"<ipython-input-18-87ab02e6b50a>\"\u001b[0;36m, line \u001b[0;32m7\u001b[0m\n\u001b[0;31m    autoencoder.compile(optimizer=sgd, loss='categorical_crossentropy', metrics=[\"accuracy\"])\u001b[0m\n\u001b[0m                                                                                             \n^\u001b[0m\n\u001b[0;31mSyntaxError\u001b[0m\u001b[0;31m:\u001b[0m EOF while scanning triple-quoted string literal\n"
          ]
        }
      ]
    },
    {
      "cell_type": "code",
      "metadata": {
        "id": "Cn_XZUHk7Yqn",
        "colab": {
          "base_uri": "https://localhost:8080/",
          "height": 87
        },
        "outputId": "c998d8c4-f1e6-4906-b777-abd422da8072"
      },
      "source": [
        "''' Comments:\n",
        "    - QPSK + QPSK\n",
        "    - Works for learning rate = 0.1, not for 0.001\n",
        "    - Clusters form further away and closer within themselves for large delta SNR as expected \n",
        "    - E.g., SNR1 = 22 db, SNR2 = 1 dB\n",
        "'''\n",
        "\n",
        "\n",
        "autoencoder, in_0, en_2 = create_model_v2(k1, k2, n_channel)\n",
        "\n",
        "sgd = SGD(lr=0.1)\n",
        "\n",
        "autoencoder.compile(optimizer=sgd, loss='categorical_crossentropy', metrics=[\"accuracy\"])"
      ],
      "execution_count": null,
      "outputs": [
        {
          "output_type": "stream",
          "text": [
            "WARNING:tensorflow:From /usr/local/lib/python3.6/dist-packages/tensorflow_core/python/ops/resource_variable_ops.py:1630: calling BaseResourceVariable.__init__ (from tensorflow.python.ops.resource_variable_ops) with constraint is deprecated and will be removed in a future version.\n",
            "Instructions for updating:\n",
            "If using Keras pass *_constraint arguments to layers.\n"
          ],
          "name": "stdout"
        }
      ]
    },
    {
      "cell_type": "code",
      "metadata": {
        "scrolled": false,
        "id": "VZK8J7sx7Yqw",
        "colab": {
          "base_uri": "https://localhost:8080/",
          "height": 605
        },
        "outputId": "f60f2de0-eafe-4df9-96f0-343f85017beb"
      },
      "source": [
        "print (autoencoder.summary())"
      ],
      "execution_count": null,
      "outputs": [
        {
          "output_type": "stream",
          "text": [
            "Model: \"model_1\"\n",
            "__________________________________________________________________________________________________\n",
            "Layer (type)                    Output Shape         Param #     Connected to                     \n",
            "==================================================================================================\n",
            "input_1 (InputLayer)            (None, 16)           0                                            \n",
            "__________________________________________________________________________________________________\n",
            "dense_2 (Dense)                 (None, 2)            34          input_1[0][0]                    \n",
            "__________________________________________________________________________________________________\n",
            "lambda_1 (Lambda)               (None, 2)            0           dense_2[0][0]                    \n",
            "__________________________________________________________________________________________________\n",
            "gaussian_noise_1 (GaussianNoise (None, 2)            0           lambda_1[0][0]                   \n",
            "__________________________________________________________________________________________________\n",
            "gaussian_noise_2 (GaussianNoise (None, 2)            0           lambda_1[0][0]                   \n",
            "__________________________________________________________________________________________________\n",
            "dense_3 (Dense)                 (None, 128)          384         gaussian_noise_1[0][0]           \n",
            "__________________________________________________________________________________________________\n",
            "dense_7 (Dense)                 (None, 128)          384         gaussian_noise_2[0][0]           \n",
            "__________________________________________________________________________________________________\n",
            "dense_4 (Dense)                 (None, 64)           8256        dense_3[0][0]                    \n",
            "__________________________________________________________________________________________________\n",
            "dense_8 (Dense)                 (None, 64)           8256        dense_7[0][0]                    \n",
            "__________________________________________________________________________________________________\n",
            "dense_5 (Dense)                 (None, 32)           2080        dense_4[0][0]                    \n",
            "__________________________________________________________________________________________________\n",
            "dense_9 (Dense)                 (None, 32)           2080        dense_8[0][0]                    \n",
            "__________________________________________________________________________________________________\n",
            "dense_6 (Dense)                 (None, 16)           528         dense_5[0][0]                    \n",
            "__________________________________________________________________________________________________\n",
            "dense_10 (Dense)                (None, 4)            132         dense_9[0][0]                    \n",
            "==================================================================================================\n",
            "Total params: 22,134\n",
            "Trainable params: 22,134\n",
            "Non-trainable params: 0\n",
            "__________________________________________________________________________________________________\n",
            "None\n"
          ],
          "name": "stdout"
        }
      ]
    },
    {
      "cell_type": "code",
      "metadata": {
        "scrolled": true,
        "id": "9z1lj5Sf7Yq6",
        "colab": {
          "base_uri": "https://localhost:8080/",
          "height": 793
        },
        "outputId": "421ac18b-78fc-4dfa-907d-c80323409cce"
      },
      "source": [
        "buzz = autoencoder.fit(data, [data, data_2],\n",
        "                epochs=20,\n",
        "                batch_size=100,\n",
        "                verbose=1)"
      ],
      "execution_count": null,
      "outputs": [
        {
          "output_type": "stream",
          "text": [
            "WARNING:tensorflow:From /usr/local/lib/python3.6/dist-packages/tensorflow_core/python/ops/math_grad.py:1424: where (from tensorflow.python.ops.array_ops) is deprecated and will be removed in a future version.\n",
            "Instructions for updating:\n",
            "Use tf.where in 2.0, which has the same broadcast rule as np.where\n",
            "WARNING:tensorflow:From /usr/local/lib/python3.6/dist-packages/keras/backend/tensorflow_backend.py:422: The name tf.global_variables is deprecated. Please use tf.compat.v1.global_variables instead.\n",
            "\n",
            "Epoch 1/20\n",
            "100000/100000 [==============================] - 2s 24us/step - loss: 1.2331 - dense_6_loss: 0.5470 - dense_10_loss: 0.6861 - dense_6_accuracy: 0.8124 - dense_10_accuracy: 0.7024\n",
            "Epoch 2/20\n",
            "100000/100000 [==============================] - 2s 20us/step - loss: 0.7226 - dense_6_loss: 0.1258 - dense_10_loss: 0.5968 - dense_6_accuracy: 0.9553 - dense_10_accuracy: 0.7452\n",
            "Epoch 3/20\n",
            "100000/100000 [==============================] - 2s 21us/step - loss: 0.6897 - dense_6_loss: 0.1138 - dense_10_loss: 0.5760 - dense_6_accuracy: 0.9600 - dense_10_accuracy: 0.7573\n",
            "Epoch 4/20\n",
            "100000/100000 [==============================] - 2s 21us/step - loss: 0.6636 - dense_6_loss: 0.1141 - dense_10_loss: 0.5495 - dense_6_accuracy: 0.9596 - dense_10_accuracy: 0.7656\n",
            "Epoch 5/20\n",
            "100000/100000 [==============================] - 2s 21us/step - loss: 0.5869 - dense_6_loss: 0.1183 - dense_10_loss: 0.4686 - dense_6_accuracy: 0.9578 - dense_10_accuracy: 0.8077\n",
            "Epoch 6/20\n",
            "100000/100000 [==============================] - 2s 21us/step - loss: 0.5577 - dense_6_loss: 0.1159 - dense_10_loss: 0.4418 - dense_6_accuracy: 0.9589 - dense_10_accuracy: 0.8197\n",
            "Epoch 7/20\n",
            "100000/100000 [==============================] - 2s 21us/step - loss: 0.5509 - dense_6_loss: 0.1129 - dense_10_loss: 0.4380 - dense_6_accuracy: 0.9605 - dense_10_accuracy: 0.8227\n",
            "Epoch 8/20\n",
            "100000/100000 [==============================] - 2s 21us/step - loss: 0.5466 - dense_6_loss: 0.1104 - dense_10_loss: 0.4362 - dense_6_accuracy: 0.9600 - dense_10_accuracy: 0.8220\n",
            "Epoch 9/20\n",
            "100000/100000 [==============================] - 2s 21us/step - loss: 0.5386 - dense_6_loss: 0.1086 - dense_10_loss: 0.4300 - dense_6_accuracy: 0.9613 - dense_10_accuracy: 0.8251\n",
            "Epoch 10/20\n",
            "100000/100000 [==============================] - 2s 21us/step - loss: 0.5383 - dense_6_loss: 0.1080 - dense_10_loss: 0.4303 - dense_6_accuracy: 0.9613 - dense_10_accuracy: 0.8272\n",
            "Epoch 11/20\n",
            "100000/100000 [==============================] - 2s 21us/step - loss: 0.5381 - dense_6_loss: 0.1057 - dense_10_loss: 0.4324 - dense_6_accuracy: 0.9615 - dense_10_accuracy: 0.8257\n",
            "Epoch 12/20\n",
            "100000/100000 [==============================] - 2s 21us/step - loss: 0.5387 - dense_6_loss: 0.1066 - dense_10_loss: 0.4321 - dense_6_accuracy: 0.9622 - dense_10_accuracy: 0.8252\n",
            "Epoch 13/20\n",
            "100000/100000 [==============================] - 2s 21us/step - loss: 0.5365 - dense_6_loss: 0.1062 - dense_10_loss: 0.4303 - dense_6_accuracy: 0.9618 - dense_10_accuracy: 0.8256\n",
            "Epoch 14/20\n",
            "100000/100000 [==============================] - 2s 21us/step - loss: 0.5356 - dense_6_loss: 0.1073 - dense_10_loss: 0.4283 - dense_6_accuracy: 0.9615 - dense_10_accuracy: 0.8271\n",
            "Epoch 15/20\n",
            "100000/100000 [==============================] - 2s 22us/step - loss: 0.5358 - dense_6_loss: 0.1052 - dense_10_loss: 0.4306 - dense_6_accuracy: 0.9618 - dense_10_accuracy: 0.8269\n",
            "Epoch 16/20\n",
            "100000/100000 [==============================] - 2s 22us/step - loss: 0.5333 - dense_6_loss: 0.1059 - dense_10_loss: 0.4275 - dense_6_accuracy: 0.9611 - dense_10_accuracy: 0.8261\n",
            "Epoch 17/20\n",
            "100000/100000 [==============================] - 2s 22us/step - loss: 0.5332 - dense_6_loss: 0.1050 - dense_10_loss: 0.4281 - dense_6_accuracy: 0.9624 - dense_10_accuracy: 0.8276\n",
            "Epoch 18/20\n",
            "100000/100000 [==============================] - 2s 22us/step - loss: 0.5277 - dense_6_loss: 0.1019 - dense_10_loss: 0.4258 - dense_6_accuracy: 0.9631 - dense_10_accuracy: 0.8284\n",
            "Epoch 19/20\n",
            "100000/100000 [==============================] - 2s 21us/step - loss: 0.5289 - dense_6_loss: 0.1029 - dense_10_loss: 0.4260 - dense_6_accuracy: 0.9627 - dense_10_accuracy: 0.8280\n",
            "Epoch 20/20\n",
            "100000/100000 [==============================] - 2s 21us/step - loss: 0.5288 - dense_6_loss: 0.1026 - dense_10_loss: 0.4262 - dense_6_accuracy: 0.9631 - dense_10_accuracy: 0.8277\n"
          ],
          "name": "stdout"
        }
      ]
    },
    {
      "cell_type": "code",
      "metadata": {
        "id": "8gyP7ZI77YrF",
        "colab": {
          "base_uri": "https://localhost:8080/",
          "height": 295
        },
        "outputId": "29005cf9-11e8-4f45-bbd7-d8b3f43fd6c0"
      },
      "source": [
        "plot_loss(buzz)"
      ],
      "execution_count": null,
      "outputs": [
        {
          "output_type": "display_data",
          "data": {
            "image/png": "[encoded data removed]",
            "text/plain": [
              "<Figure size 432x288 with 1 Axes>"
            ]
          },
          "metadata": {
            "tags": []
          }
        }
      ]
    },
    {
      "cell_type": "code",
      "metadata": {
        "scrolled": false,
        "id": "CgVepnRS7YrO",
        "colab": {
          "base_uri": "https://localhost:8080/",
          "height": 550
        },
        "outputId": "82464e31-85d2-4cb8-8033-f42920bd9de0"
      },
      "source": [
        "a = plot_constellation(in_0, en_2, k)"
      ],
      "execution_count": null,
      "outputs": [
        {
          "output_type": "stream",
          "text": [
            "[[-0.35764468 -1.7870275 ]\n",
            " [-1.2313137   1.00628   ]\n",
            " [ 0.7143415   1.039585  ]\n",
            " [ 1.5329741   0.3467783 ]\n",
            " [ 0.17410146 -1.2130475 ]\n",
            " [-0.89762926  0.26322734]\n",
            " [ 0.11954619  0.5854104 ]\n",
            " [ 1.2316984  -0.9710851 ]\n",
            " [-0.19913998 -0.5900541 ]\n",
            " [-1.7480628   0.42842388]\n",
            " [-0.14730313  1.3023409 ]\n",
            " [ 1.7403687  -0.38485533]\n",
            " [-0.76302046 -1.1242772 ]\n",
            " [-1.4667627  -0.28499928]\n",
            " [ 0.4603633   1.7990657 ]\n",
            " [ 0.8934427  -0.21724646]]\n"
          ],
          "name": "stdout"
        },
        {
          "output_type": "display_data",
          "data": {
            "image/png": "[encoded data removed]",
            "text/plain": [
              "<Figure size 432x288 with 1 Axes>"
            ]
          },
          "metadata": {
            "tags": []
          }
        }
      ]
    },
    {
      "cell_type": "code",
      "metadata": {
        "scrolled": true,
        "id": "d80KGLaT7YrW"
      },
      "source": [
        "#plot_constellation_3d(in_0, en_2, k)"
      ],
      "execution_count": null,
      "outputs": []
    },
    {
      "cell_type": "code",
      "metadata": {
        "id": "QZ0nYafD7Yri"
      },
      "source": [
        "\n",
        "plt.title('QPSK+QPSK, ΔSNR = 20dB')\n",
        "plt.xlim(-3, 3)\n",
        "plt.ylim(-3, 3)\n",
        "plt.plot(a[:,0], a[:,1], 'k.', markersize=10)\n",
        "plt.grid(True)"
      ],
      "execution_count": null,
      "outputs": []
    },
    {
      "cell_type": "code",
      "metadata": {
        "id": "nufPCoGh7Yrr"
      },
      "source": [
        ""
      ],
      "execution_count": null,
      "outputs": []
    },
    {
      "cell_type": "code",
      "metadata": {
        "id": "fsrHqts87Yr1"
      },
      "source": [
        ""
      ],
      "execution_count": null,
      "outputs": []
    },
    {
      "cell_type": "code",
      "metadata": {
        "id": "czQRx2uE7Yr9"
      },
      "source": [
        "UE1encoder = Model(input_signal, UE1encoded2)\n",
        "\n",
        "encoded_input = Input(shape=(2*n_channel,))\n",
        "deco = autoencoder.layers[-2](encoded_input)\n",
        "deco = autoencoder.layers[-1](deco)\n",
        "UE1decoder = Model(encoded_input, deco)"
      ],
      "execution_count": null,
      "outputs": []
    },
    {
      "cell_type": "code",
      "metadata": {
        "id": "OqncRtvP7YsF"
      },
      "source": [
        "EbNodB_range = list(frange(-4,8.5,0.5))\n",
        "ber = [None]*len(EbNodB_range)\n",
        "for n in range(0,len(EbNodB_range)):\n",
        "    EbNo=10.0**(EbNodB_range[n]/10.0)\n",
        "    noise_std = np.sqrt(1/(2*R*EbNo))\n",
        "    noise_mean = 0\n",
        "    no_errors = 0\n",
        "    nn = N\n",
        "    noise = noise_std * np.random.randn(nn,n_channel)\n",
        "    encoded_signal = encoder.predict(test_data) \n",
        "    final_signal = encoded_signal + noise\n",
        "    pred_final_signal =  decoder.predict(final_signal)\n",
        "    pred_output = np.argmax(pred_final_signal,axis=1)\n",
        "    no_errors = (pred_output != test_label)\n",
        "    no_errors =  no_errors.astype(int).sum()\n",
        "    ber[n] = no_errors / nn \n",
        "    print ('SNR:',EbNodB_range[n],'BER:',ber[n])"
      ],
      "execution_count": null,
      "outputs": []
    },
    {
      "cell_type": "code",
      "metadata": {
        "id": "uFMm1Jth7YsR"
      },
      "source": [
        "tf.__version__"
      ],
      "execution_count": null,
      "outputs": []
    },
    {
      "cell_type": "code",
      "metadata": {
        "id": "jZQ_KQBD7YsZ"
      },
      "source": [
        ""
      ],
      "execution_count": null,
      "outputs": []
    }
  ]
}